{
 "cells": [
  {
   "cell_type": "code",
   "execution_count": null,
   "id": "c9d891a4",
   "metadata": {},
   "outputs": [],
   "source": []
  },
  {
   "cell_type": "code",
   "execution_count": 59,
   "id": "18c1eded",
   "metadata": {},
   "outputs": [
    {
     "name": "stdout",
     "output_type": "stream",
     "text": [
      "[[ 1  2  3]\n",
      " [ 4  5  6]\n",
      " [ 7  8  9]\n",
      " [10 11 12]]\n",
      "[[[ 1  2]\n",
      "  [ 3  4]\n",
      "  [ 5  6]]\n",
      "\n",
      " [[ 7  8]\n",
      "  [ 9 10]\n",
      "  [11 12]]]\n",
      "This is a random number between the given numbers : 5\n"
     ]
    }
   ],
   "source": [
    "import numpy \n",
    "import random\n",
    "import numpy as np\n",
    "mylist = [1,2,3,4,5,6,7,8,9,10,11,12]\n",
    "a = np.reshape(mylist,(4,3))\n",
    "b = np.reshape(mylist,(2,3,2))\n",
    "\n",
    "print(a)\n",
    "print(b)\n",
    "\n",
    "print(\"This is a random number between the given numbers : \" + str(random.randint(3, 9)))"
   ]
  },
  {
   "cell_type": "raw",
   "id": "e6904e93",
   "metadata": {},
   "source": [
    "# When ever we want to merge or manipulate data from a CSV or a SQL database then we use the Pandas lib."
   ]
  },
  {
   "cell_type": "code",
   "execution_count": 60,
   "id": "c1172ae4",
   "metadata": {},
   "outputs": [],
   "source": [
    "import pandas as pd"
   ]
  },
  {
   "cell_type": "code",
   "execution_count": 63,
   "id": "63607bb2",
   "metadata": {},
   "outputs": [
    {
     "name": "stdout",
     "output_type": "stream",
     "text": [
      "0    1\n",
      "1    5\n",
      "2    2\n",
      "3    7\n",
      "4    4\n",
      "5    3\n",
      "6    3\n",
      "dtype: int64\n"
     ]
    }
   ],
   "source": [
    "new = pd.Series([1,5,2,7,4,3,3])\n",
    "print(new)"
   ]
  },
  {
   "cell_type": "code",
   "execution_count": 9,
   "id": "817f8156",
   "metadata": {},
   "outputs": [],
   "source": [
    "# now this data can be saved to a csv file in a better formatted manner."
   ]
  },
  {
   "cell_type": "code",
   "execution_count": 65,
   "id": "97766785",
   "metadata": {},
   "outputs": [
    {
     "name": "stdout",
     "output_type": "stream",
     "text": [
      "RangeIndex(start=0, stop=7, step=1)\n"
     ]
    }
   ],
   "source": [
    "print(new.index)"
   ]
  },
  {
   "cell_type": "code",
   "execution_count": 66,
   "id": "fbf95fc2",
   "metadata": {},
   "outputs": [
    {
     "name": "stdout",
     "output_type": "stream",
     "text": [
      "[1 5 2 7 4 3 3]\n"
     ]
    }
   ],
   "source": [
    "print(new.values)"
   ]
  },
  {
   "cell_type": "code",
   "execution_count": 67,
   "id": "aa4af790",
   "metadata": {},
   "outputs": [
    {
     "name": "stdout",
     "output_type": "stream",
     "text": [
      "<bound method Series.keys of 0    1\n",
      "1    5\n",
      "2    2\n",
      "3    7\n",
      "4    4\n",
      "5    3\n",
      "6    3\n",
      "dtype: int64>\n"
     ]
    }
   ],
   "source": [
    "print(new.keys)"
   ]
  },
  {
   "cell_type": "code",
   "execution_count": 70,
   "id": "f64d9d70",
   "metadata": {},
   "outputs": [
    {
     "name": "stdout",
     "output_type": "stream",
     "text": [
      "[6 4 2 5 4 7 8]\n"
     ]
    }
   ],
   "source": [
    "import numpy as np\n",
    "new2 = np.array([6,4,2,5,4,7,8])\n",
    "print(new2)"
   ]
  },
  {
   "cell_type": "code",
   "execution_count": 74,
   "id": "d7642b82",
   "metadata": {},
   "outputs": [
    {
     "name": "stdout",
     "output_type": "stream",
     "text": [
      "<class 'numpy.ndarray'> <class 'numpy.ndarray'>\n"
     ]
    }
   ],
   "source": [
    "print(type(new.values), type(new2))"
   ]
  },
  {
   "cell_type": "code",
   "execution_count": 78,
   "id": "80fc4593",
   "metadata": {},
   "outputs": [
    {
     "data": {
      "text/plain": [
       "Apple         20\n",
       "Strawberry    21\n",
       "banana        45\n",
       "pineapple     12\n",
       "dtype: int64"
      ]
     },
     "execution_count": 78,
     "metadata": {},
     "output_type": "execute_result"
    }
   ],
   "source": [
    "fruits = [\"Apple\" , \"Strawberry\" , \"banana\" , \"pineapple\"]\n",
    "Quantities = [20,21,45,12]\n",
    "\n",
    "pd.Series(Quantities , index = fruits)"
   ]
  },
  {
   "cell_type": "code",
   "execution_count": 89,
   "id": "727d2845",
   "metadata": {},
   "outputs": [
    {
     "name": "stdout",
     "output_type": "stream",
     "text": [
      "Apple         14\n",
      "Strawberry    15\n",
      "banana        17\n",
      "pineapple     20\n",
      "dtype: int64\n"
     ]
    }
   ],
   "source": [
    "fruits = [\"Apple\" , \"Strawberry\" , \"banana\" , \"pineapple\"]\n",
    "fruit1 = [\"Apple\" , \"pomegrenate\" , \"grape\" , \"mushroom\"]\n",
    "new3 = pd.Series([14,15,17,20],index=fruits)\n",
    "new4 = pd.Series([20,21,45,12],index=fruit1)\n",
    "print(new3)"
   ]
  },
  {
   "cell_type": "code",
   "execution_count": 90,
   "id": "4b8de58b",
   "metadata": {},
   "outputs": [
    {
     "name": "stdout",
     "output_type": "stream",
     "text": [
      "Apple          34.0\n",
      "Strawberry      NaN\n",
      "banana          NaN\n",
      "grape           NaN\n",
      "mushroom        NaN\n",
      "pineapple       NaN\n",
      "pomegrenate     NaN\n",
      "dtype: float64\n"
     ]
    }
   ],
   "source": [
    "print(new3 + new4)"
   ]
  },
  {
   "cell_type": "code",
   "execution_count": 94,
   "id": "80424957",
   "metadata": {},
   "outputs": [
    {
     "name": "stdout",
     "output_type": "stream",
     "text": [
      "14\n"
     ]
    }
   ],
   "source": [
    "print(new3['Apple'])"
   ]
  },
  {
   "cell_type": "code",
   "execution_count": 114,
   "id": "1ed1abb3",
   "metadata": {},
   "outputs": [
    {
     "data": {
      "image/png": "[encoded data removed]",
      "text/plain": [
       "<Figure size 432x288 with 1 Axes>"
      ]
     },
     "metadata": {
      "needs_background": "light"
     },
     "output_type": "display_data"
    },
    {
     "data": {
      "text/plain": [
       "Text(0, 0.5, 'rachet')"
      ]
     },
     "execution_count": 114,
     "metadata": {},
     "output_type": "execute_result"
    },
    {
     "data": {
      "image/png": "[encoded data removed]",
      "text/plain": [
       "<Figure size 432x288 with 1 Axes>"
      ]
     },
     "metadata": {
      "needs_background": "light"
     },
     "output_type": "display_data"
    }
   ],
   "source": [
    "import matplotlib.pyplot as plt\n",
    "import numpy as np\n",
    "\n",
    "plt.plot([5,7,5,9,4,7,8,11,22,33,44,55],[7,5,3,1,2,4,6,66,77,88,99,34])\n",
    "plt.show()\n",
    "plt.title(\"optimusprime\")\n",
    "plt.xlabel(\"bumblebee\")\n",
    "plt.ylabel(\"rachet\")"
   ]
  },
  {
   "cell_type": "code",
   "execution_count": null,
   "id": "1b173782",
   "metadata": {},
   "outputs": [],
   "source": []
  }
 ],
 "metadata": {
  "kernelspec": {
   "display_name": "Python 3 (ipykernel)",
   "language": "python",
   "name": "python3"
  },
  "language_info": {
   "codemirror_mode": {
    "name": "ipython",
    "version": 3
   },
   "file_extension": ".py",
   "mimetype": "text/x-python",
   "name": "python",
   "nbconvert_exporter": "python",
   "pygments_lexer": "ipython3",
   "version": "3.9.12"
  }
 },
 "nbformat": 4,
 "nbformat_minor": 5
}
